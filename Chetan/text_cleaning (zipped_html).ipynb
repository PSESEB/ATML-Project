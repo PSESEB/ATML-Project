{
 "cells": [
  {
   "cell_type": "code",
   "execution_count": 1,
   "metadata": {},
   "outputs": [],
   "source": [
    "#Import libraries\n",
    "import pandas as pd\n",
    "from nltk.corpus import stopwords\n",
    "from nltk.stem import PorterStemmer\n",
    "from IPython.display import clear_output"
   ]
  },
  {
   "cell_type": "code",
   "execution_count": 2,
   "metadata": {},
   "outputs": [],
   "source": [
    "#Import the csv containing scraped text and their lables\n",
    "df = pd.read_csv('output.csv', header = None)"
   ]
  },
  {
   "cell_type": "code",
   "execution_count": 3,
   "metadata": {},
   "outputs": [],
   "source": [
    "#Initialize Stopword corpus and Stemmer function\n",
    "sw_corpus = stopwords.words('english')\n",
    "stemmer = PorterStemmer()"
   ]
  },
  {
   "cell_type": "code",
   "execution_count": 4,
   "metadata": {},
   "outputs": [
    {
     "name": "stdout",
     "output_type": "stream",
     "text": [
      "Processing... Stopwords Removal/Stemming/Cleaning...\n",
      "Progress: 99.99 %\n"
     ]
    }
   ],
   "source": [
    "#Run stopword removal and stemming over all texts containging in the data frame\n",
    "for row_count in range(len(df)):\n",
    "    #Print progress %\n",
    "    clear_output(wait = True)\n",
    "    print(\"Processing... Stopwords Removal/Stemming/Cleaning...\\nProgress: {:.2f}\".format(row_count/len(df)*100), '%')\n",
    "    \n",
    "    #Only selecting those rows which has text\n",
    "    if 'str' in str(type(df.at[row_count, 0])):\n",
    "        para_word_tokens = df.at[row_count, 0].split()\n",
    "        #Removing stopwords and stemming\n",
    "        sw_rem_tokens = [word for word in para_word_tokens if word not in sw_corpus]\n",
    "        stemmed_tokens = [stemmer.stem(word) for word in sw_rem_tokens]\n",
    "        #Removing digits and words which ha less than 3 chars\n",
    "        cleaned_tokens_0 = [word for word in stemmed_tokens if not any(i.isdigit() for i in word)]\n",
    "        cleaned_tokens_1 = [word for word in cleaned_tokens_0 if len(word) > 2]\n",
    "        #Removing unnecessary symbols\n",
    "        for count, word in enumerate(cleaned_tokens_1):\n",
    "            x = word\n",
    "            for i in word:\n",
    "                if not i.isalpha():\n",
    "                    x = x.replace(i, '')\n",
    "            cleaned_tokens_1[count] = x\n",
    "        \n",
    "        #Make changes\n",
    "        df.at[row_count, 0] = ' '.join(cleaned_tokens_1)"
   ]
  },
  {
   "cell_type": "code",
   "execution_count": 10,
   "metadata": {},
   "outputs": [],
   "source": [
    "#Write to .csv\n",
    "df.to_csv('output.csv', header=False, index=False)"
   ]
  },
  {
   "cell_type": "code",
   "execution_count": null,
   "metadata": {},
   "outputs": [],
   "source": []
  }
 ],
 "metadata": {
  "kernelspec": {
   "display_name": "Python 3",
   "language": "python",
   "name": "python3"
  },
  "language_info": {
   "codemirror_mode": {
    "name": "ipython",
    "version": 3
   },
   "file_extension": ".py",
   "mimetype": "text/x-python",
   "name": "python",
   "nbconvert_exporter": "python",
   "pygments_lexer": "ipython3",
   "version": "3.7.3"
  }
 },
 "nbformat": 4,
 "nbformat_minor": 2
}
