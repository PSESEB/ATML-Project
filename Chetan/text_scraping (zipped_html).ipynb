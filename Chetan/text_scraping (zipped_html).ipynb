{
 "cells": [
  {
   "cell_type": "code",
   "execution_count": 2,
   "metadata": {},
   "outputs": [],
   "source": [
    "#Import libraries\n",
    "from IPython.display import clear_output\n",
    "from bs4 import BeautifulSoup\n",
    "from pathlib import Path\n",
    "import pandas as pd"
   ]
  },
  {
   "cell_type": "code",
   "execution_count": 1,
   "metadata": {},
   "outputs": [],
   "source": [
    "#Set path of the directory\n",
    "path = ('eurlex_html_EN_NOT/')\n",
    "base = Path(path)\n",
    "\n",
    "#Set total count of files for progress indicator\n",
    "total_file_len = len([x for x in base.iterdir()])\n",
    "\n",
    "docs = []\n",
    "for count, filename in enumerate(base.iterdir()):\n",
    "    #Initialize beautiful soup\n",
    "    with open(filename, 'r') as file:\n",
    "        contents = file.read()\n",
    "        soup = BeautifulSoup(contents, 'lxml')\n",
    "\n",
    "        #Fetch Main Text\n",
    "        tags = soup.findAll(\"div\", {\"class\": \"texte\"})\n",
    "        main_text = []\n",
    "        for para in tags:\n",
    "            main_text.extend(((para.text).lower().replace(',','').replace('.', '')).split())\n",
    "\n",
    "        #Fetch Classes\n",
    "        tags = soup.findAll('li')\n",
    "        classes = []\n",
    "        for st in tags:\n",
    "            for i in st.findAll('strong'):\n",
    "                if i.text == 'Subject matter:':\n",
    "                    classes = (st.text.strip()).split('\\n')\n",
    "                    classes = [x.lower().replace(' ', '_') for x in classes if (x != ', ') and (x != '') and (x != ',')][1:]\n",
    "        \n",
    "        #Append text and classes together in multi-D list\n",
    "        docs.append([main_text, classes])\n",
    "    \n",
    "    #Display progress %\n",
    "    clear_output(wait = True)\n",
    "    print(\"Progress: {:.2f}\".format(count/total_file_len * 100), \"%\")"
   ]
  },
  {
   "cell_type": "code",
   "execution_count": 22,
   "metadata": {},
   "outputs": [],
   "source": [
    "#Save the output in a dataframe\n",
    "df = pd.DataFrame(docs)\n",
    "for row in range(len(df)):\n",
    "    df.at[row, 0] = ' '.join(df.at[row, 0])\n",
    "    df.at[row, 1] = ', '.join(df.at[row, 1])"
   ]
  },
  {
   "cell_type": "code",
   "execution_count": 12,
   "metadata": {},
   "outputs": [],
   "source": [
    "#Write to .csv\n",
    "df.to_csv('output.csv', header=False, index=False)"
   ]
  },
  {
   "cell_type": "code",
   "execution_count": null,
   "metadata": {},
   "outputs": [],
   "source": []
  }
 ],
 "metadata": {
  "kernelspec": {
   "display_name": "Python 3",
   "language": "python",
   "name": "python3"
  },
  "language_info": {
   "codemirror_mode": {
    "name": "ipython",
    "version": 3
   },
   "file_extension": ".py",
   "mimetype": "text/x-python",
   "name": "python",
   "nbconvert_exporter": "python",
   "pygments_lexer": "ipython3",
   "version": "3.7.3"
  }
 },
 "nbformat": 4,
 "nbformat_minor": 2
}
